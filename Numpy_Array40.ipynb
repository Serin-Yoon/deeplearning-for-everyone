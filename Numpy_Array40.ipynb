{
  "nbformat": 4,
  "nbformat_minor": 0,
  "metadata": {
    "colab": {
      "name": "Untitled1.ipynb",
      "provenance": [],
      "authorship_tag": "ABX9TyO0PWrINrcy+mMKKA1nAexi",
      "include_colab_link": true
    },
    "kernelspec": {
      "name": "python3",
      "display_name": "Python 3"
    }
  },
  "cells": [
    {
      "cell_type": "markdown",
      "metadata": {
        "id": "view-in-github",
        "colab_type": "text"
      },
      "source": [
        "<a href=\"https://colab.research.google.com/github/Serin-Yoon/deeplearning-for-everyone/blob/master/Numpy_Array40.ipynb\" target=\"_parent\"><img src=\"https://colab.research.google.com/assets/colab-badge.svg\" alt=\"Open In Colab\"/></a>"
      ]
    },
    {
      "cell_type": "code",
      "metadata": {
        "id": "pbcLhyAduZRY",
        "colab_type": "code",
        "colab": {
          "base_uri": "https://localhost:8080/",
          "height": 128
        },
        "outputId": "cfc776cd-2d35-4ee8-8a00-e746200c112f"
      },
      "source": [
        "import numpy as np\n",
        "#using no.full\n",
        "x = np.full((3, 5), 2, dtype=np.uint)\n",
        "print(x)\n",
        "#using no.ones\n",
        "y = np.ones([3, 5], dtype=np.uint) *2\n",
        "print(y)"
      ],
      "execution_count": 3,
      "outputs": [
        {
          "output_type": "stream",
          "text": [
            "[[2 2 2 2 2]\n",
            " [2 2 2 2 2]\n",
            " [2 2 2 2 2]]\n",
            "[[2 2 2 2 2]\n",
            " [2 2 2 2 2]\n",
            " [2 2 2 2 2]]\n"
          ],
          "name": "stdout"
        }
      ]
    }
  ]
}