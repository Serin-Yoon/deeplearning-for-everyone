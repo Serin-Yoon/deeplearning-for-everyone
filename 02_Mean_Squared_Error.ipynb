{
  "nbformat": 4,
  "nbformat_minor": 0,
  "metadata": {
    "kernelspec": {
      "display_name": "Python 3",
      "language": "python",
      "name": "python3"
    },
    "language_info": {
      "codemirror_mode": {
        "name": "ipython",
        "version": 3
      },
      "file_extension": ".py",
      "mimetype": "text/x-python",
      "name": "python",
      "nbconvert_exporter": "python",
      "pygments_lexer": "ipython3",
      "version": "3.7.3"
    },
    "colab": {
      "name": "02_Mean_Squared_Error.ipynb",
      "provenance": [],
      "include_colab_link": true
    }
  },
  "cells": [
    {
      "cell_type": "markdown",
      "metadata": {
        "id": "view-in-github",
        "colab_type": "text"
      },
      "source": [
        "<a href=\"https://colab.research.google.com/github/Serin-Yoon/deeplearning-for-everyone/blob/master/02_Mean_Squared_Error.ipynb\" target=\"_parent\"><img src=\"https://colab.research.google.com/assets/colab-badge.svg\" alt=\"Open In Colab\"/></a>"
      ]
    },
    {
      "cell_type": "code",
      "metadata": {
        "id": "8bXy-zJU3RFI",
        "colab_type": "code",
        "colab": {
          "base_uri": "https://localhost:8080/",
          "height": 110
        },
        "outputId": "573228f8-d535-4d29-e3cb-081971c94d1d"
      },
      "source": [
        "#-*- coding: utf-8 -*-\n",
        "\n",
        "import numpy as np\n",
        "\n",
        "#가상의 기울기 a와 y 절편 b\n",
        "fake_a_b=[0.5,76]\n",
        "\n",
        "# x 값과 y값\n",
        "data = [[10, 88], [20, 92], [30, 94], [40, 99]]\n",
        "x = [i[0] for i in data]\n",
        "y = [i[1] for i in data]\n",
        "\n",
        "# y=ax + b에 a,b 값 대입하여 결과를 출력하는 함수\n",
        "def predict(x):\n",
        "   return fake_a_b[0]*x + fake_a_b[1]\n",
        "\n",
        "# MSE 함수\n",
        "def mse(y_hat, y):\n",
        "   return ((y_hat - y) ** 2).mean()\n",
        "\n",
        "# MSE 함수를 각 y값에 대입하여 최종 값을 구하는 함수\n",
        "def mse_val(predict_result,y):\n",
        "   return mse(np.array(predict_result), np.array(y))\n",
        "\n",
        "# 예측값이 들어갈 빈 리스트\n",
        "predict_result = []\n",
        "\n",
        "# 모든 x값을 한 번씩 대입하여 predict_result 리스트완성.\n",
        "for i in range(len(x)):\n",
        "   predict_result.append(predict(x[i]))\n",
        "   print(\"공부시간=%.f, 실제점수=%.f, 예측점수=%.f\" % (x[i], y[i], predict(x[i])))\n",
        "\n",
        "# 최종 MSE 출력\n",
        "print(\"MSE 최종값: \" + str(mse_val(predict_result,y)))\n"
      ],
      "execution_count": 2,
      "outputs": [
        {
          "output_type": "stream",
          "text": [
            "공부시간=10, 실제점수=88, 예측점수=81\n",
            "공부시간=20, 실제점수=92, 예측점수=86\n",
            "공부시간=30, 실제점수=94, 예측점수=91\n",
            "공부시간=40, 실제점수=99, 예측점수=96\n",
            "MSE 최종값: 25.75\n"
          ],
          "name": "stdout"
        }
      ]
    },
    {
      "cell_type": "code",
      "metadata": {
        "id": "CNyoOUyJ3RFg",
        "colab_type": "code",
        "colab": {}
      },
      "source": [
        ""
      ],
      "execution_count": 0,
      "outputs": []
    }
  ]
}