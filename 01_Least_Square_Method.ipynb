{
  "nbformat": 4,
  "nbformat_minor": 0,
  "metadata": {
    "kernelspec": {
      "display_name": "Python 3",
      "language": "python",
      "name": "python3"
    },
    "language_info": {
      "codemirror_mode": {
        "name": "ipython",
        "version": 3
      },
      "file_extension": ".py",
      "mimetype": "text/x-python",
      "name": "python",
      "nbconvert_exporter": "python",
      "pygments_lexer": "ipython3",
      "version": "3.7.3"
    },
    "colab": {
      "name": "01_Least_Square_Method.ipynb",
      "provenance": [],
      "collapsed_sections": [],
      "include_colab_link": true
    }
  },
  "cells": [
    {
      "cell_type": "markdown",
      "metadata": {
        "id": "view-in-github",
        "colab_type": "text"
      },
      "source": [
        "<a href=\"https://colab.research.google.com/github/Serin-Yoon/deeplearning-for-everyone/blob/master/01_Least_Square_Method.ipynb\" target=\"_parent\"><img src=\"https://colab.research.google.com/assets/colab-badge.svg\" alt=\"Open In Colab\"/></a>"
      ]
    },
    {
      "cell_type": "code",
      "metadata": {
        "id": "FaTpSKOvszah",
        "colab_type": "code",
        "colab": {
          "base_uri": "https://localhost:8080/",
          "height": 240
        },
        "outputId": "876a6c88-631c-42d2-b20e-280357836a53"
      },
      "source": [
        "# -*- coding: utf-8 -*-\n",
        "import numpy as np\n",
        "\n",
        "# x 값과 y값\n",
        "x=[10, 20, 30, 40]\n",
        "y=[88, 92, 94, 99]\n",
        "\n",
        "# x와 y의 평균값\n",
        "mx = np.mean(x)\n",
        "my = np.mean(y)\n",
        "print(\"x의 평균값:\", mx)\n",
        "print(\"y의 평균값:\", my)\n",
        "\n",
        "# 기울기 공식의 분모\n",
        "divisor = sum([(mx - i)**2 for i in x])\n",
        "\n",
        "# 기울기 공식의 분자\n",
        "def top(x, mx, y, my):\n",
        "    d = 0\n",
        "    for i in range(len(x)):\n",
        "        d += (x[i] - mx) * (y[i] - my)\n",
        "    return d\n",
        "dividend = top(x, mx, y, my)\n",
        "\n",
        "print(\"분모:\", divisor)\n",
        "print(\"분자:\", dividend)\n",
        "\n",
        "# 기울기와 y 절편 구하기\n",
        "a = dividend / divisor\n",
        "b = my - (mx*a)\n",
        "\n",
        "# 출력으로 확인\n",
        "print(\"기울기 a =\", a)\n",
        "print(\"y 절편 b =\", b)"
      ],
      "execution_count": 3,
      "outputs": [
        {
          "output_type": "stream",
          "text": [
            "x의 평균값: 25.0\n",
            "y의 평균값: 93.25\n",
            "분모: 500.0\n",
            "분자: 175.0\n",
            "기울기 a = 0.35\n",
            "y 절편 b = 84.5\n",
            "Cloning into 'deeplearning-for-everyone'...\n",
            "remote: Enumerating objects: 3, done.\u001b[K\n",
            "remote: Counting objects: 100% (3/3), done.\u001b[K\n",
            "remote: Compressing objects: 100% (2/2), done.\u001b[K\n",
            "remote: Total 3 (delta 0), reused 0 (delta 0), pack-reused 0\u001b[K\n",
            "Unpacking objects: 100% (3/3), done.\n"
          ],
          "name": "stdout"
        }
      ]
    },
    {
      "cell_type": "code",
      "metadata": {
        "id": "cKhPBnrIu9V9",
        "colab_type": "code",
        "colab": {}
      },
      "source": [
        "from google.colab import drive\n",
        "drive.mount('/content/drive')"
      ],
      "execution_count": 0,
      "outputs": []
    },
    {
      "cell_type": "code",
      "metadata": {
        "id": "DsRv1ZCnszbF",
        "colab_type": "code",
        "colab": {}
      },
      "source": [
        ""
      ],
      "execution_count": 0,
      "outputs": []
    },
    {
      "cell_type": "markdown",
      "metadata": {
        "id": "SrPvYb-etW5I",
        "colab_type": "text"
      },
      "source": [
        ""
      ]
    }
  ]
}